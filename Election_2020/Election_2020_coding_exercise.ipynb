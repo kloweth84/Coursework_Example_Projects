{
 "cells": [
  {
   "cell_type": "code",
   "execution_count": 1,
   "id": "1119225e",
   "metadata": {},
   "outputs": [],
   "source": [
    "import pandas as pd\n",
    "import numpy as np\n",
    "import re\n",
    "import os\n",
    "import plotnine\n",
    "\n",
    "\n",
    "pd.set_option('display.max_columns', None)"
   ]
  },
  {
   "cell_type": "code",
   "execution_count": 2,
   "id": "9a5df023",
   "metadata": {},
   "outputs": [],
   "source": [
    "col_to_open = ['caseid', \n",
    "        \"gender\", \"gender_post\",\n",
    "        \"birthyr\", \"birthyr_post\",\n",
    "        'educ', \"race\", \"hispanic\",\n",
    "        \"pid3\",\n",
    "        \"votereg\", \"votereg_post\", \n",
    "        \"inputstate\", \"region\", \n",
    "        \"CC20_330a\", \"CC20_330b\", \"CC20_330c\",\n",
    "        \"CC20_331a\", \"CC20_331b\", \"CC20_331c\", \"CC20_331d\", \"CC20_331e\", \n",
    "         \"presvote16post\", \n",
    "         \"CC20_363\", \n",
    "         \"CC20_364b\"]"
   ]
  },
  {
   "cell_type": "code",
   "execution_count": null,
   "id": "b7ad021d",
   "metadata": {},
   "outputs": [],
   "source": [
    "election = pd.read_csv('cces_2020.csv', header=0, usecols = col_to_open)"
   ]
  }
 ],
 "metadata": {
  "kernelspec": {
   "display_name": "Python 3 (ipykernel)",
   "language": "python",
   "name": "python3"
  },
  "language_info": {
   "codemirror_mode": {
    "name": "ipython",
    "version": 3
   },
   "file_extension": ".py",
   "mimetype": "text/x-python",
   "name": "python",
   "nbconvert_exporter": "python",
   "pygments_lexer": "ipython3",
   "version": "3.10.11"
  }
 },
 "nbformat": 4,
 "nbformat_minor": 5
}
